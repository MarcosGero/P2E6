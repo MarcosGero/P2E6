{
  "metadata": {
    "kernelspec": {
      "name": "python",
      "display_name": "Python (Pyodide)",
      "language": "python"
    },
    "language_info": {
      "codemirror_mode": {
        "name": "python",
        "version": 3
      },
      "file_extension": ".py",
      "mimetype": "text/x-python",
      "name": "python",
      "nbconvert_exporter": "python",
      "pygments_lexer": "ipython3",
      "version": "3.8"
    }
  },
  "nbformat_minor": 5,
  "nbformat": 4,
  "cells": [
    {
      "cell_type": "markdown",
      "source": "a) Los lenguajes elegidos fueron Python y C++. Su implementación consiste en dos partes, una etapa de compilación (de la expresión regular) y la etapa de comprobación.\n\t\nEn Python se usa la librería re (regular expression) y en C++ se usa regex.h\n\nAmbas usan una sintaxis similar:\n[] Indica un conjunto de simbolos a comprobar. Ejemplo: [a-z] indica los caracteres de la a a la z. \n^ Indica el inicio de la cadena.\n$ Indica el final de la cadena.\n* Indica que el conjunto se repite indefinidamente en todas sus combinaciones posibles.\n+ Indica que el conjunto se repite indefinidamente y que al menos lo hace una vez.\n. Indica que puede aceptar cualquier caracter a excepcion de ‘\\n’\nPara compilar la expresión regular:\nLlamaremos regstr al string que contendrá la expresión regular.\nEn Python se usa re.compile(regstr) [Retorna: regular expression object]\nEn C++ se usa regex(regstr) [Constructor para el objeto regex]\n\nPara comprobar que cierto string cumple con las condiciones de la expresion regular:\nLlamaremos patron al objeto resultante de la compilación de la expresion antes mencionada.\nEn Python usaremos patron.search(str) siendo str la cadena a validar.\nEn C++ usaremos regex_match(str,patron) siento str la cadena a validar.\n\nEn ambos casos el resultado será un booleano.\n\n\n",
      "metadata": {
        "trusted": true
      },
      "id": "a1947b7f-6e9b-491b-897b-5ffb897c47be"
    },
    {
      "cell_type": "markdown",
      "source": "b) Una posible aplicación es la validación de correos electronicos. Para eso podemos usar la siguiente expresion regular:\n\n^[A-Za-z0-9._]+@[A-Za-z0-9]+\\.com$\n\nLa primera parte “[A-Za-z0-9._]” indica que acepta cualquier cadena que incluya minusculas, mayusculas, numeros, puntos y guion bajo\nEl @ es para obligar a que una cadena valida tenga ese simbolo\nNuevamente usamos “[A-Za-z0-9]” para la 2da parte del correo, no incluimos puntos y guiones.\nTerminamos con “\\.com$” para indicar que termine en “.com” se usa un \\. en vez de un punto solamente ya que al no estar entre corchetes [ ] se necesita separar del caracter especial que hace otra cosa diferente.",
      "metadata": {},
      "id": "0e71fd27-92b6-49bf-ab6b-270b0d31cb7d"
    },
    {
      "cell_type": "code",
      "source": "cadena1 = 'asda*sd@gmail.com'\ncadena2 = 'hola@gmail.com'\ncadena3 = 'adios@gm.ail.com'",
      "metadata": {
        "trusted": true
      },
      "execution_count": 5,
      "outputs": [],
      "id": "d4b28c65-ba4d-4797-aca4-b6d4ae0ad0d5"
    },
    {
      "cell_type": "code",
      "source": "import re\n\ndef validar_correo(cadena):\n    # Expresión regular para una cadena que tenga una cantidad par de ceros\n    patron = re.compile(r'^[A-Za-z0-9_.]+@[A-Za-z0-9]+\\.com$')\n    if patron.search(cadena):\n         print(f'{cadena} es una cadena válida.')\n    else:\n        print(f'{cadena} no es una cadena válida.')\n\n# Ejemplo de uso\nvalidar_correo(cadena1)\nvalidar_correo(cadena2)\nvalidar_correo(cadena3)",
      "metadata": {
        "trusted": true
      },
      "execution_count": 8,
      "outputs": [
        {
          "name": "stdout",
          "text": "asda*sd@gmail.com no es una cadena válida.\nhola@gmail.com es una cadena válida.\nadios@gm.ail.com no es una cadena válida.\n",
          "output_type": "stream"
        }
      ],
      "id": "3bd97978"
    },
    {
      "cell_type": "markdown",
      "source": "### Codigo en C++",
      "metadata": {},
      "id": "09b5ff5e-e553-4791-9090-c4ae26dbd82b"
    },
    {
      "cell_type": "raw",
      "source": "#include <iostream>\n#include <regex>\n#include <string>\nusing namespace std;\n\nint main()\n{\nstring reg = \"^[A-Za-z0-9.%+-]+@[A-Za-z0-9]+\\.com$\";\nstring input;\nwhile(1)\n{\n\tcout << \"Ingrese el texto: \";\n\tgetline(cin,input);\n\tif (input == \"_salir_\") {\n\tbreak;\n\t}else {\n\t\tif ( regex_match(input,regex(reg)) ) {\n\t\t\tcout << \"CORREO VALIDO\" << endl;\n\t\t}else {\n\t\tcout << \"CORREO INVALIDO\" << endl;\n\t\t}\n}\n}\nreturn 0;\n}",
      "metadata": {},
      "id": "23643e6e-e3a6-4e28-96d0-a0abb9eeac5c"
    },
    {
      "cell_type": "markdown",
      "source": "**Referencias:**\n\n[Regular Expressions (cf.ac.uk)](https://users.cs.cf.ac.uk/Dave.Marshall/Internet/NEWS/regexp.html)\n\nPython:\n\n[re — Regular expression operations — Python 3.11.3 documentation](https://docs.python.org/3/library/re.html)\n\n[Regular Expression HOWTO — Python 3.11.3 documentation](https://docs.python.org/3/howto/regex.html#regex-howto)\n\nC++:\n\n[C++ regex Tutorial: Regular Expressions In C++ With Examples (softwaretestinghelp.com)](https://www.softwaretestinghelp.com/regex-in-cpp/)\n\n[https://www.youtube.com/watch?v=Ma34wduJwR8](https://www.youtube.com/watch?v=Ma34wduJwR8)\n\n[https://www.geeksforgeeks.org/regular-expressions-in-c/](https://www.geeksforgeeks.org/regular-expressions-in-c/)\n\n[https://www.educative.io/answers/how-to-write-regular-expressions-in-c](https://www.educative.io/answers/how-to-write-regular-expressions-in-c)",
      "metadata": {},
      "id": "b9474625-2e3c-4d84-9d81-992d055b82da"
    }
  ]
}
